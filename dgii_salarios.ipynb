{
 "cells": [
  {
   "cell_type": "markdown",
   "metadata": {},
   "source": [
    "## Cargar datos de salarios DGII de Ene y Feb 2016"
   ]
  },
  {
   "cell_type": "code",
   "execution_count": 1,
   "metadata": {
    "collapsed": false
   },
   "outputs": [
    {
     "ename": "IOError",
     "evalue": "File cs_DGII_Nomina_2016.csv does not exist",
     "output_type": "error",
     "traceback": [
      "\u001b[1;31m---------------------------------------------------------------------------\u001b[0m",
      "\u001b[1;31mIOError\u001b[0m                                   Traceback (most recent call last)",
      "\u001b[1;32m<ipython-input-1-65431f806702>\u001b[0m in \u001b[0;36m<module>\u001b[1;34m()\u001b[0m\n\u001b[0;32m     12\u001b[0m \u001b[1;31m#matplotlib.style.use('seaborn-colorblind')\u001b[0m\u001b[1;33m\u001b[0m\u001b[1;33m\u001b[0m\u001b[0m\n\u001b[0;32m     13\u001b[0m \u001b[1;33m\u001b[0m\u001b[0m\n\u001b[1;32m---> 14\u001b[1;33m \u001b[0mdf\u001b[0m \u001b[1;33m=\u001b[0m \u001b[0mpd\u001b[0m\u001b[1;33m.\u001b[0m\u001b[0mread_csv\u001b[0m\u001b[1;33m(\u001b[0m\u001b[1;34m'cs_DGII_Nomina_2016.csv'\u001b[0m\u001b[1;33m,\u001b[0m\u001b[0msep\u001b[0m\u001b[1;33m=\u001b[0m\u001b[1;34m';'\u001b[0m\u001b[1;33m)\u001b[0m\u001b[1;33m\u001b[0m\u001b[0m\n\u001b[0m\u001b[0;32m     15\u001b[0m \u001b[1;32mprint\u001b[0m\u001b[1;33m(\u001b[0m\u001b[0mdf\u001b[0m\u001b[1;33m.\u001b[0m\u001b[0mshape\u001b[0m\u001b[1;33m)\u001b[0m\u001b[1;33m\u001b[0m\u001b[0m\n\u001b[0;32m     16\u001b[0m \u001b[1;32mprint\u001b[0m\u001b[1;33m(\u001b[0m\u001b[0mdf\u001b[0m\u001b[1;33m.\u001b[0m\u001b[0mcolumns\u001b[0m\u001b[1;33m)\u001b[0m\u001b[1;33m\u001b[0m\u001b[0m\n",
      "\u001b[1;32mC:\\Users\\Dario\\Anaconda2\\lib\\site-packages\\pandas\\io\\parsers.pyc\u001b[0m in \u001b[0;36mparser_f\u001b[1;34m(filepath_or_buffer, sep, delimiter, header, names, index_col, usecols, squeeze, prefix, mangle_dupe_cols, dtype, engine, converters, true_values, false_values, skipinitialspace, skiprows, skipfooter, nrows, na_values, keep_default_na, na_filter, verbose, skip_blank_lines, parse_dates, infer_datetime_format, keep_date_col, date_parser, dayfirst, iterator, chunksize, compression, thousands, decimal, lineterminator, quotechar, quoting, escapechar, comment, encoding, dialect, tupleize_cols, error_bad_lines, warn_bad_lines, skip_footer, doublequote, delim_whitespace, as_recarray, compact_ints, use_unsigned, low_memory, buffer_lines, memory_map, float_precision)\u001b[0m\n\u001b[0;32m    560\u001b[0m                     skip_blank_lines=skip_blank_lines)\n\u001b[0;32m    561\u001b[0m \u001b[1;33m\u001b[0m\u001b[0m\n\u001b[1;32m--> 562\u001b[1;33m         \u001b[1;32mreturn\u001b[0m \u001b[0m_read\u001b[0m\u001b[1;33m(\u001b[0m\u001b[0mfilepath_or_buffer\u001b[0m\u001b[1;33m,\u001b[0m \u001b[0mkwds\u001b[0m\u001b[1;33m)\u001b[0m\u001b[1;33m\u001b[0m\u001b[0m\n\u001b[0m\u001b[0;32m    563\u001b[0m \u001b[1;33m\u001b[0m\u001b[0m\n\u001b[0;32m    564\u001b[0m     \u001b[0mparser_f\u001b[0m\u001b[1;33m.\u001b[0m\u001b[0m__name__\u001b[0m \u001b[1;33m=\u001b[0m \u001b[0mname\u001b[0m\u001b[1;33m\u001b[0m\u001b[0m\n",
      "\u001b[1;32mC:\\Users\\Dario\\Anaconda2\\lib\\site-packages\\pandas\\io\\parsers.pyc\u001b[0m in \u001b[0;36m_read\u001b[1;34m(filepath_or_buffer, kwds)\u001b[0m\n\u001b[0;32m    313\u001b[0m \u001b[1;33m\u001b[0m\u001b[0m\n\u001b[0;32m    314\u001b[0m     \u001b[1;31m# Create the parser.\u001b[0m\u001b[1;33m\u001b[0m\u001b[1;33m\u001b[0m\u001b[0m\n\u001b[1;32m--> 315\u001b[1;33m     \u001b[0mparser\u001b[0m \u001b[1;33m=\u001b[0m \u001b[0mTextFileReader\u001b[0m\u001b[1;33m(\u001b[0m\u001b[0mfilepath_or_buffer\u001b[0m\u001b[1;33m,\u001b[0m \u001b[1;33m**\u001b[0m\u001b[0mkwds\u001b[0m\u001b[1;33m)\u001b[0m\u001b[1;33m\u001b[0m\u001b[0m\n\u001b[0m\u001b[0;32m    316\u001b[0m \u001b[1;33m\u001b[0m\u001b[0m\n\u001b[0;32m    317\u001b[0m     \u001b[1;32mif\u001b[0m \u001b[1;33m(\u001b[0m\u001b[0mnrows\u001b[0m \u001b[1;32mis\u001b[0m \u001b[1;32mnot\u001b[0m \u001b[0mNone\u001b[0m\u001b[1;33m)\u001b[0m \u001b[1;32mand\u001b[0m \u001b[1;33m(\u001b[0m\u001b[0mchunksize\u001b[0m \u001b[1;32mis\u001b[0m \u001b[1;32mnot\u001b[0m \u001b[0mNone\u001b[0m\u001b[1;33m)\u001b[0m\u001b[1;33m:\u001b[0m\u001b[1;33m\u001b[0m\u001b[0m\n",
      "\u001b[1;32mC:\\Users\\Dario\\Anaconda2\\lib\\site-packages\\pandas\\io\\parsers.pyc\u001b[0m in \u001b[0;36m__init__\u001b[1;34m(self, f, engine, **kwds)\u001b[0m\n\u001b[0;32m    643\u001b[0m             \u001b[0mself\u001b[0m\u001b[1;33m.\u001b[0m\u001b[0moptions\u001b[0m\u001b[1;33m[\u001b[0m\u001b[1;34m'has_index_names'\u001b[0m\u001b[1;33m]\u001b[0m \u001b[1;33m=\u001b[0m \u001b[0mkwds\u001b[0m\u001b[1;33m[\u001b[0m\u001b[1;34m'has_index_names'\u001b[0m\u001b[1;33m]\u001b[0m\u001b[1;33m\u001b[0m\u001b[0m\n\u001b[0;32m    644\u001b[0m \u001b[1;33m\u001b[0m\u001b[0m\n\u001b[1;32m--> 645\u001b[1;33m         \u001b[0mself\u001b[0m\u001b[1;33m.\u001b[0m\u001b[0m_make_engine\u001b[0m\u001b[1;33m(\u001b[0m\u001b[0mself\u001b[0m\u001b[1;33m.\u001b[0m\u001b[0mengine\u001b[0m\u001b[1;33m)\u001b[0m\u001b[1;33m\u001b[0m\u001b[0m\n\u001b[0m\u001b[0;32m    646\u001b[0m \u001b[1;33m\u001b[0m\u001b[0m\n\u001b[0;32m    647\u001b[0m     \u001b[1;32mdef\u001b[0m \u001b[0mclose\u001b[0m\u001b[1;33m(\u001b[0m\u001b[0mself\u001b[0m\u001b[1;33m)\u001b[0m\u001b[1;33m:\u001b[0m\u001b[1;33m\u001b[0m\u001b[0m\n",
      "\u001b[1;32mC:\\Users\\Dario\\Anaconda2\\lib\\site-packages\\pandas\\io\\parsers.pyc\u001b[0m in \u001b[0;36m_make_engine\u001b[1;34m(self, engine)\u001b[0m\n\u001b[0;32m    797\u001b[0m     \u001b[1;32mdef\u001b[0m \u001b[0m_make_engine\u001b[0m\u001b[1;33m(\u001b[0m\u001b[0mself\u001b[0m\u001b[1;33m,\u001b[0m \u001b[0mengine\u001b[0m\u001b[1;33m=\u001b[0m\u001b[1;34m'c'\u001b[0m\u001b[1;33m)\u001b[0m\u001b[1;33m:\u001b[0m\u001b[1;33m\u001b[0m\u001b[0m\n\u001b[0;32m    798\u001b[0m         \u001b[1;32mif\u001b[0m \u001b[0mengine\u001b[0m \u001b[1;33m==\u001b[0m \u001b[1;34m'c'\u001b[0m\u001b[1;33m:\u001b[0m\u001b[1;33m\u001b[0m\u001b[0m\n\u001b[1;32m--> 799\u001b[1;33m             \u001b[0mself\u001b[0m\u001b[1;33m.\u001b[0m\u001b[0m_engine\u001b[0m \u001b[1;33m=\u001b[0m \u001b[0mCParserWrapper\u001b[0m\u001b[1;33m(\u001b[0m\u001b[0mself\u001b[0m\u001b[1;33m.\u001b[0m\u001b[0mf\u001b[0m\u001b[1;33m,\u001b[0m \u001b[1;33m**\u001b[0m\u001b[0mself\u001b[0m\u001b[1;33m.\u001b[0m\u001b[0moptions\u001b[0m\u001b[1;33m)\u001b[0m\u001b[1;33m\u001b[0m\u001b[0m\n\u001b[0m\u001b[0;32m    800\u001b[0m         \u001b[1;32melse\u001b[0m\u001b[1;33m:\u001b[0m\u001b[1;33m\u001b[0m\u001b[0m\n\u001b[0;32m    801\u001b[0m             \u001b[1;32mif\u001b[0m \u001b[0mengine\u001b[0m \u001b[1;33m==\u001b[0m \u001b[1;34m'python'\u001b[0m\u001b[1;33m:\u001b[0m\u001b[1;33m\u001b[0m\u001b[0m\n",
      "\u001b[1;32mC:\\Users\\Dario\\Anaconda2\\lib\\site-packages\\pandas\\io\\parsers.pyc\u001b[0m in \u001b[0;36m__init__\u001b[1;34m(self, src, **kwds)\u001b[0m\n\u001b[0;32m   1211\u001b[0m         \u001b[0mkwds\u001b[0m\u001b[1;33m[\u001b[0m\u001b[1;34m'allow_leading_cols'\u001b[0m\u001b[1;33m]\u001b[0m \u001b[1;33m=\u001b[0m \u001b[0mself\u001b[0m\u001b[1;33m.\u001b[0m\u001b[0mindex_col\u001b[0m \u001b[1;32mis\u001b[0m \u001b[1;32mnot\u001b[0m \u001b[0mFalse\u001b[0m\u001b[1;33m\u001b[0m\u001b[0m\n\u001b[0;32m   1212\u001b[0m \u001b[1;33m\u001b[0m\u001b[0m\n\u001b[1;32m-> 1213\u001b[1;33m         \u001b[0mself\u001b[0m\u001b[1;33m.\u001b[0m\u001b[0m_reader\u001b[0m \u001b[1;33m=\u001b[0m \u001b[0m_parser\u001b[0m\u001b[1;33m.\u001b[0m\u001b[0mTextReader\u001b[0m\u001b[1;33m(\u001b[0m\u001b[0msrc\u001b[0m\u001b[1;33m,\u001b[0m \u001b[1;33m**\u001b[0m\u001b[0mkwds\u001b[0m\u001b[1;33m)\u001b[0m\u001b[1;33m\u001b[0m\u001b[0m\n\u001b[0m\u001b[0;32m   1214\u001b[0m \u001b[1;33m\u001b[0m\u001b[0m\n\u001b[0;32m   1215\u001b[0m         \u001b[1;31m# XXX\u001b[0m\u001b[1;33m\u001b[0m\u001b[1;33m\u001b[0m\u001b[0m\n",
      "\u001b[1;32mpandas\\parser.pyx\u001b[0m in \u001b[0;36mpandas.parser.TextReader.__cinit__ (pandas\\parser.c:3427)\u001b[1;34m()\u001b[0m\n",
      "\u001b[1;32mpandas\\parser.pyx\u001b[0m in \u001b[0;36mpandas.parser.TextReader._setup_parser_source (pandas\\parser.c:6861)\u001b[1;34m()\u001b[0m\n",
      "\u001b[1;31mIOError\u001b[0m: File cs_DGII_Nomina_2016.csv does not exist"
     ]
    }
   ],
   "source": [
    "%matplotlib inline\n",
    "import pandas as pd\n",
    "import numpy as np\n",
    "from __future__ import division\n",
    "from __future__ import print_function\n",
    "from unidecode import unidecode\n",
    "import re\n",
    "from matplotlib import pyplot as plt\n",
    "import seaborn as sns\n",
    "import matplotlib.style\n",
    "#print(matplotlib.style.available)\n",
    "#matplotlib.style.use('seaborn-colorblind')\n",
    "\n",
    "df = pd.read_csv('cs_DGII_Nomina_2016.csv',sep=';')\n",
    "print(df.shape)\n",
    "print(df.columns)\n",
    "df.head()"
   ]
  },
  {
   "cell_type": "markdown",
   "metadata": {},
   "source": [
    "Tenemos 5 columnas de datos. Incluyendo el género\n",
    "\n",
    "En adición a cargar los datos realizamos una limpieza minima de los mismos para preparlos para el analisis. Esta consiste en:\n",
    "\n",
    "* Convertir salarios de texto a montos\n",
    "* Homogeneizar los puestos eliminando tildes, porciones entre parentesis, espacios en blanco de más y convirtiendo todas las letras a minusculas"
   ]
  },
  {
   "cell_type": "code",
   "execution_count": null,
   "metadata": {
    "collapsed": false
   },
   "outputs": [],
   "source": [
    "def normalize_puesto(pstr):\n",
    "    pstr = unidecode(unicode(pstr,'windows-1252')).strip().lower()\n",
    "    pstr = re.sub('\\(.*?\\)','', pstr)\n",
    "    return pstr\n",
    "\n",
    "\n",
    "df.columns = [x.strip().translate(None,',').lower() for x in df.columns.values]\n",
    "# parse salaries\n",
    "df.salario = df.salario.apply(lambda x: x.translate(None,',').strip())\n",
    "df.salario = df.salario.astype(float)\n",
    "# cleanup puesto\n",
    "df['puesto_clean'] = df.puesto.apply(normalize_puesto)\n",
    "df.drop(['puesto'],axis=1,inplace=True)\n",
    "df.rename(columns={'puesto_clean':'puesto'},inplace=True)\n",
    "print(df.shape)"
   ]
  },
  {
   "cell_type": "code",
   "execution_count": null,
   "metadata": {
    "collapsed": false
   },
   "outputs": [],
   "source": [
    "df.salario.describe()"
   ]
  },
  {
   "cell_type": "code",
   "execution_count": null,
   "metadata": {
    "collapsed": false
   },
   "outputs": [],
   "source": [
    "df['salariok'] = df.salario.div(1000).round(4)\n",
    "df.salariok.describe()"
   ]
  },
  {
   "cell_type": "code",
   "execution_count": null,
   "metadata": {
    "collapsed": false
   },
   "outputs": [],
   "source": [
    "df.groupby(by='mes').salario.describe().unstack()"
   ]
  },
  {
   "cell_type": "code",
   "execution_count": null,
   "metadata": {
    "collapsed": false
   },
   "outputs": [],
   "source": [
    "ene = df[df.mes == 'ene-16']\n",
    "feb = df[df.mes == 'feb-16']\n",
    "print(ene.shape)\n",
    "print(feb.shape)\n",
    "print(ene.shape[0] + feb.shape[0])"
   ]
  },
  {
   "cell_type": "code",
   "execution_count": null,
   "metadata": {
    "collapsed": false
   },
   "outputs": [],
   "source": [
    "feb.salario.describe()"
   ]
  },
  {
   "cell_type": "code",
   "execution_count": null,
   "metadata": {
    "collapsed": false
   },
   "outputs": [],
   "source": [
    "print(feb.genero.value_counts())"
   ]
  },
  {
   "cell_type": "code",
   "execution_count": null,
   "metadata": {
    "collapsed": false,
    "scrolled": true
   },
   "outputs": [],
   "source": [
    "feb_by_gender = feb.groupby(by='genero')\n",
    "feb_by_gender.salario.describe().unstack()"
   ]
  },
  {
   "cell_type": "code",
   "execution_count": null,
   "metadata": {
    "collapsed": false
   },
   "outputs": [],
   "source": [
    "print(\"\\nProporción de empleomanía por genero\")\n",
    "print(feb_by_gender.salario.count().apply(lambda x: x/feb.salario.count()))\n",
    "print(\"\\nTotal nomina mensual por genero\")\n",
    "print(feb_by_gender.salario.sum())\n",
    "print(\"\\nProporcion de la nomina mensual por genero\")\n",
    "print(feb_by_gender.salario.sum().apply(lambda x: x/feb.salario.sum()))\n",
    "print(\"\\nDiferencia porcentual entre el salario promedio de mujeres y hombres\")\n",
    "print((feb_by_gender.salario.mean()[0]/feb_by_gender.salario.mean()[1] - 1)*100)"
   ]
  },
  {
   "cell_type": "code",
   "execution_count": null,
   "metadata": {
    "collapsed": false
   },
   "outputs": [],
   "source": [
    "print(\"Distribución de salarios por genero\")\n",
    "g = sns.FacetGrid(data=feb, col='genero', size=6).map(sns.distplot,'salariok')"
   ]
  },
  {
   "cell_type": "code",
   "execution_count": null,
   "metadata": {
    "collapsed": false
   },
   "outputs": [],
   "source": [
    "ene.puesto.nunique()"
   ]
  },
  {
   "cell_type": "code",
   "execution_count": null,
   "metadata": {
    "collapsed": false
   },
   "outputs": [],
   "source": [
    "feb.puesto.nunique()"
   ]
  },
  {
   "cell_type": "code",
   "execution_count": null,
   "metadata": {
    "collapsed": false
   },
   "outputs": [],
   "source": [
    "print(feb.puesto.value_counts().head(1))\n",
    "print(ene.puesto.value_counts().head(1))"
   ]
  },
  {
   "cell_type": "code",
   "execution_count": null,
   "metadata": {
    "collapsed": false
   },
   "outputs": [],
   "source": [
    "set(feb.puesto.unique()) - set(ene.puesto.unique())"
   ]
  },
  {
   "cell_type": "code",
   "execution_count": null,
   "metadata": {
    "collapsed": false
   },
   "outputs": [],
   "source": [
    "df[df.puesto == 'disenador grafico']"
   ]
  },
  {
   "cell_type": "markdown",
   "metadata": {},
   "source": [
    "Como lo que nos interesa analizar es el salario que devengan hombres y mujeres por el mismo trabajo debemos procurar comparar solo aquellos que tienen el mismo puesto.\n",
    "\n",
    "Asi que tomamos los registros pertenecientes a puestos con 30 personas o mas y al menos 1 hombre y 1 mujer."
   ]
  },
  {
   "cell_type": "code",
   "execution_count": null,
   "metadata": {
    "collapsed": false
   },
   "outputs": [],
   "source": [
    "spg = feb.groupby(by=['puesto']).filter(lambda x: len(x) > 14 and len(x[x.genero == 'F']) > 0 and len(x[x.genero == 'M']) > 0)\n",
    "spg.puesto.value_counts()"
   ]
  },
  {
   "cell_type": "code",
   "execution_count": null,
   "metadata": {
    "collapsed": false
   },
   "outputs": [],
   "source": [
    "print(spg.puesto.nunique())\n",
    "print(spg.puesto.value_counts().sum())\n",
    "spg.groupby(by='genero').salario.describe().unstack()"
   ]
  },
  {
   "cell_type": "code",
   "execution_count": null,
   "metadata": {
    "collapsed": false
   },
   "outputs": [],
   "source": [
    "pd.pivot_table(data=spg,values='salario',index=['puesto'],columns=['genero'],aggfunc=np.mean)"
   ]
  },
  {
   "cell_type": "code",
   "execution_count": null,
   "metadata": {
    "collapsed": false
   },
   "outputs": [],
   "source": [
    "pivot_pg = pd.pivot_table(data=spg,values='salario',index=['puesto'],columns=['genero'],aggfunc=np.mean).apply(lambda x: x/x[1] - 1, axis=1)\n",
    "pivot_pg.sort_values('F',inplace=True)"
   ]
  },
  {
   "cell_type": "code",
   "execution_count": null,
   "metadata": {
    "collapsed": false
   },
   "outputs": [],
   "source": [
    "pivot_pg_plot_data = pivot_pg.copy()\n",
    "pivot_pg_plot_data['positive'] = pivot_pg_plot_data.F.map(lambda x: x>0)\n",
    "pivot_pg_plot_data.sort_values('F',inplace=True)\n",
    "f = plt.figure(figsize=(12,12))\n",
    "ax = sns.barplot(data=pivot_pg_plot_data,y=pivot_pg.index,x='F',hue='positive',orient='h')\n",
    "ax.set_xlabel('% diferencia promedio')\n",
    "#ax.set_xticklabels(ax.get_xticklabels(),rotation=90)\n",
    "plt.legend().remove()"
   ]
  },
  {
   "cell_type": "code",
   "execution_count": null,
   "metadata": {
    "collapsed": false
   },
   "outputs": [],
   "source": [
    "print(pivot_pg.mean())\n",
    "print(pivot_pg_plot_data.positive.value_counts())"
   ]
  },
  {
   "cell_type": "code",
   "execution_count": null,
   "metadata": {
    "collapsed": false
   },
   "outputs": [],
   "source": [
    "pivot_pg.idxmin()"
   ]
  },
  {
   "cell_type": "code",
   "execution_count": null,
   "metadata": {
    "collapsed": false
   },
   "outputs": [],
   "source": [
    "spg[spg.puesto == 'encargado seccion c'].groupby(by='genero').salario.describe().unstack()"
   ]
  },
  {
   "cell_type": "code",
   "execution_count": null,
   "metadata": {
    "collapsed": false
   },
   "outputs": [],
   "source": [
    "pivot_pg.idxmax()"
   ]
  },
  {
   "cell_type": "code",
   "execution_count": null,
   "metadata": {
    "collapsed": false
   },
   "outputs": [],
   "source": [
    "spg[spg.puesto == 'auditor interno c'].groupby(by='genero').salario.describe().unstack()"
   ]
  },
  {
   "cell_type": "code",
   "execution_count": null,
   "metadata": {
    "collapsed": false
   },
   "outputs": [],
   "source": [
    "bottom25 = feb[feb.salario <= feb.salario.quantile(.25)]\n",
    "top25 = feb[feb.salario >= feb.salario.quantile(.75)]\n",
    "bottom25_by_gender = bottom25.groupby(by='genero')\n",
    "bottom25_by_gender.salario.describe().unstack()"
   ]
  },
  {
   "cell_type": "code",
   "execution_count": null,
   "metadata": {
    "collapsed": false
   },
   "outputs": [],
   "source": [
    "top25_by_gender = top25.groupby(by='genero')\n",
    "top25_by_gender.salario.describe().unstack()"
   ]
  },
  {
   "cell_type": "code",
   "execution_count": null,
   "metadata": {
    "collapsed": false
   },
   "outputs": [],
   "source": [
    "sns.FacetGrid(data=bottom25, col='genero').map(sns.distplot,'salariok')"
   ]
  },
  {
   "cell_type": "code",
   "execution_count": null,
   "metadata": {
    "collapsed": false
   },
   "outputs": [],
   "source": [
    "sns.FacetGrid(data=top25, col='genero').map(sns.distplot,'salariok')"
   ]
  },
  {
   "cell_type": "code",
   "execution_count": null,
   "metadata": {
    "collapsed": false
   },
   "outputs": [],
   "source": [
    "print(bottom25_by_gender.salario.count())\n",
    "print(bottom25_by_gender.salario.count().apply(lambda x: x/bottom25.salario.count()))\n",
    "print(bottom25_by_gender.salario.sum())\n",
    "print(bottom25_by_gender.salario.sum().apply(lambda x: x/bottom25.salario.sum()))"
   ]
  },
  {
   "cell_type": "code",
   "execution_count": null,
   "metadata": {
    "collapsed": false
   },
   "outputs": [],
   "source": [
    "print(top25_by_gender.salario.count())\n",
    "print(top25_by_gender.salario.count().apply(lambda x: x/top25.salario.count()))\n",
    "print(top25_by_gender.salario.sum())\n",
    "print(top25_by_gender.salario.sum().apply(lambda x: x/top25.salario.sum()))"
   ]
  },
  {
   "cell_type": "code",
   "execution_count": null,
   "metadata": {
    "collapsed": false
   },
   "outputs": [],
   "source": [
    "sns.set_style(\"white\")\n",
    "sns.set_context({\"figure.figsize\": (12, 10)})\n",
    "# generar lista del total de salarios pagados por puesto\n",
    "spg_salario_total = spg.groupby(by='puesto').salario.sum()\n",
    "# generar lista de salario pagado a mujeres y hombres por puesto\n",
    "spg_salario_f = spg[spg.genero == 'F'].groupby(by='puesto').salario.sum()\n",
    "spg_salario_m = spg[spg.genero == 'M'].groupby(by='puesto').salario.sum()\n",
    "# dibujar el total de salario por puesto en azul\n",
    "salario_m_plot = sns.barplot(x=spg_salario_total.index, y=spg_salario_total, color ='blue')\n",
    "# superponer el total de salario de mujeres por puesto en rojo\n",
    "salario_f_plot = sns.barplot(x=spg_salario_total.index, y=spg_salario_f, color='red')\n",
    "# girar los nombres de los puestos 90 grados para que esten verticales y sean legibles\n",
    "for i in salario_f_plot.get_xticklabels():\n",
    "    i.set_rotation(90)\n",
    "salario_f_plot.set_ylabel('salario total pagado')\n",
    "#\n",
    "topbar = plt.Rectangle((0,0),1,1,fc=\"red\", edgecolor = 'none')\n",
    "bottombar = plt.Rectangle((0,0),1,1,fc='blue',  edgecolor = 'none')\n",
    "l = plt.legend([bottombar, topbar], ['Hombres', 'Mujeres'], loc=1, ncol = 2, prop={'size':16})\n",
    "l.draw_frame(False)"
   ]
  },
  {
   "cell_type": "code",
   "execution_count": null,
   "metadata": {
    "collapsed": false
   },
   "outputs": [],
   "source": [
    "sns.set_style(\"white\")\n",
    "sns.set_context({\"figure.figsize\": (12, 10)})\n",
    "# generar lista del total de empleados por puesto\n",
    "spg_puesto_total = spg.groupby(by='puesto').salario.count()\n",
    "# generar lista empleados mujeres y hombres por puesto\n",
    "spg_puesto_f = spg[spg.genero == 'F'].groupby(by='puesto').salario.count()\n",
    "spg_puesto_m = spg[spg.genero == 'M'].groupby(by='puesto').salario.count()\n",
    "# dibujar el total de empleados por puesto en azul\n",
    "salario_m_plot = sns.barplot(x=spg_puesto_total.index, y=spg_puesto_total, color ='blue')\n",
    "# superponer el total de empleadas (mujeres) por puesto en rojo\n",
    "salario_f_plot = sns.barplot(x=spg_puesto_total.index, y=spg_puesto_f, color='red')\n",
    "# girar los nombres de los puestos 90 grados para que esten verticales y sean legibles\n",
    "for i in salario_f_plot.get_xticklabels():\n",
    "    i.set_rotation(90)\n",
    "salario_f_plot.set_ylabel('cantidad de empleados')\n",
    "#\n",
    "topbar = plt.Rectangle((0,0),1,1,fc=\"red\", edgecolor = 'none')\n",
    "bottombar = plt.Rectangle((0,0),1,1,fc='blue',  edgecolor = 'none')\n",
    "l = plt.legend([bottombar, topbar], ['Hombres', 'Mujeres'], loc=1, ncol = 2)\n",
    "l.draw_frame(False)"
   ]
  },
  {
   "cell_type": "code",
   "execution_count": null,
   "metadata": {
    "collapsed": false
   },
   "outputs": [],
   "source": [
    "ax = sns.factorplot(data=spg,x='puesto',y='salario',hue='genero',kind='violin', size=15)\n",
    "ax.set_xticklabels(rotation=90)"
   ]
  },
  {
   "cell_type": "code",
   "execution_count": null,
   "metadata": {
    "collapsed": false
   },
   "outputs": [],
   "source": [
    "pd.pivot_table(data=top25,index=['puesto'],columns=['genero'],values='salario',aggfunc=np.mean).dropna().apply(lambda x: x/x[1] - 1,axis=1).mean()"
   ]
  },
  {
   "cell_type": "code",
   "execution_count": null,
   "metadata": {
    "collapsed": false
   },
   "outputs": [],
   "source": [
    "pd.pivot_table(data=bottom25,index=['puesto'],columns=['genero'],values='salario',aggfunc=np.mean).dropna().apply(lambda x: x/x[1] - 1,axis=1).mean()"
   ]
  },
  {
   "cell_type": "code",
   "execution_count": null,
   "metadata": {
    "collapsed": false
   },
   "outputs": [],
   "source": [
    "bins = range(5000,150000,2500)\n",
    "ax = sns.distplot(feb.salario, kde=False, bins=bins)\n",
    "sns.distplot(feb.salario[feb.genero == 'F'], kde=False, color='red', bins=bins)\n",
    "print(feb.salario.quantile(.25))\n",
    "print(feb.salario.quantile(.5))\n",
    "print(feb.salario.quantile(.75))\n",
    "plt.axvline(25000,linestyle='dashed')\n",
    "plt.axvline(40000,linestyle='dashed')\n",
    "plt.axvline(55000,linestyle='dashed')"
   ]
  },
  {
   "cell_type": "code",
   "execution_count": null,
   "metadata": {
    "collapsed": false
   },
   "outputs": [],
   "source": [
    "ax = sns.countplot(x='genero',data=feb[feb.salario > feb.salario.quantile(.75)])\n",
    "plt.figure()\n",
    "ax = sns.countplot(x='genero',data=feb[feb.salario < feb.salario.quantile(.25)])"
   ]
  },
  {
   "cell_type": "code",
   "execution_count": null,
   "metadata": {
    "collapsed": false
   },
   "outputs": [],
   "source": [
    "import scipy.stats as stats\n",
    "def mwu(f,m):\n",
    "    try:\n",
    "        u, p = stats.mannwhitneyu(f,m)\n",
    "    except:\n",
    "        u, p = (float('NaN'),float('Nan'))\n",
    "    return p*2\n",
    "        \n",
    "spg.groupby(by='puesto').apply(lambda x: mwu(x[x.genero=='F'].salario,x[x.genero=='M'].salario)).sort_values()"
   ]
  },
  {
   "cell_type": "code",
   "execution_count": null,
   "metadata": {
    "collapsed": false
   },
   "outputs": [],
   "source": [
    "spg[spg.puesto == 'analista'].groupby(by='genero').salario.describe().unstack()"
   ]
  },
  {
   "cell_type": "code",
   "execution_count": null,
   "metadata": {
    "collapsed": false
   },
   "outputs": [],
   "source": [
    "sns.factorplot(data=spg[spg.puesto=='analista'],x='puesto',y='salario',hue='genero',kind='box', size=5)"
   ]
  },
  {
   "cell_type": "code",
   "execution_count": null,
   "metadata": {
    "collapsed": false
   },
   "outputs": [],
   "source": [
    "rspg = spg.copy()\n",
    "rspg.genero = np.random.permutation(rspg.genero)\n",
    "rspg[rspg.puesto == 'analista'].groupby(by='genero').salario.describe().unstack()"
   ]
  },
  {
   "cell_type": "code",
   "execution_count": null,
   "metadata": {
    "collapsed": false
   },
   "outputs": [],
   "source": [
    "rpivot_pg = pd.pivot_table(data=rspg,values='salario',index=['puesto'],columns=['genero'],aggfunc=np.mean).apply(lambda x: x/x[1] - 1, axis=1)\n",
    "rpivot_pg.sort_values('F',inplace=True)"
   ]
  },
  {
   "cell_type": "code",
   "execution_count": null,
   "metadata": {
    "collapsed": false
   },
   "outputs": [],
   "source": [
    "rpivot_pg_plot_data = rpivot_pg.copy()\n",
    "rpivot_pg_plot_data['positive'] = rpivot_pg_plot_data.F.map(lambda x: x>0)\n",
    "rpivot_pg_plot_data.sort_values('F',inplace=True)\n",
    "f = plt.figure(figsize=(12,12))\n",
    "ax = sns.barplot(data=rpivot_pg_plot_data,y=rpivot_pg.index,x='F',hue='positive',orient='h')\n",
    "ax.set_xlabel('% diferencia promedio')\n",
    "#ax.set_xticklabels(ax.get_xticklabels(),rotation=90)\n",
    "plt.legend().remove()"
   ]
  },
  {
   "cell_type": "code",
   "execution_count": null,
   "metadata": {
    "collapsed": false
   },
   "outputs": [],
   "source": [
    "bins = range(5000,150000,2500)\n",
    "feb['salario_bin'] = pd.qcut(feb.salario,10,precision=0)\n",
    "feb.salario_bin.value_counts()\n",
    "epg_count = pd.pivot_table(data=feb,index=['salario_bin'],columns=['genero'],values='salario',aggfunc=len).apply(lambda x: x/x.sum() * 100,axis=1)\n",
    "epg_sum = pd.pivot_table(data=feb,index=['salario_bin'],columns=['genero'],values='salario',aggfunc=np.sum).apply(lambda x: x/x.sum() * 100,axis=1)"
   ]
  },
  {
   "cell_type": "code",
   "execution_count": null,
   "metadata": {
    "collapsed": false
   },
   "outputs": [],
   "source": [
    "ax = epg_count.plot(kind='area',stacked=True, grid=True)\n",
    "ax.set_xlabel('Deciles de Salario')\n",
    "ax.set_ylabel('Porcentaje de empleados')\n",
    "ticks = ax.set_xticklabels(ax.get_xticklabels(),rotation=45)\n",
    "plt.axhline(50,linestyle='dashed')"
   ]
  },
  {
   "cell_type": "code",
   "execution_count": null,
   "metadata": {
    "collapsed": false
   },
   "outputs": [],
   "source": [
    "ax = epg_sum.plot(kind='area',stacked=True)\n",
    "ax.set_xlabel('Deciles de Salario')\n",
    "ax.set_ylabel('Porcentaje de salario pagado')\n",
    "ticks = ax.set_xticklabels(ax.get_xticklabels(),rotation=45)\n",
    "plt.axhline(50,linestyle='dashed')"
   ]
  },
  {
   "cell_type": "code",
   "execution_count": null,
   "metadata": {
    "collapsed": true
   },
   "outputs": [],
   "source": []
  }
 ],
 "metadata": {
  "kernelspec": {
   "display_name": "Python 2",
   "language": "python",
   "name": "python2"
  },
  "language_info": {
   "codemirror_mode": {
    "name": "ipython",
    "version": 2
   },
   "file_extension": ".py",
   "mimetype": "text/x-python",
   "name": "python",
   "nbconvert_exporter": "python",
   "pygments_lexer": "ipython2",
   "version": "2.7.11"
  }
 },
 "nbformat": 4,
 "nbformat_minor": 0
}
